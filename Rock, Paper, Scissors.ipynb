{
 "cells": [
  {
   "cell_type": "code",
   "execution_count": 3,
   "metadata": {},
   "outputs": [],
   "source": [
    "import random "
   ]
  },
  {
   "cell_type": "code",
   "execution_count": 7,
   "metadata": {},
   "outputs": [
    {
     "name": "stdout",
     "output_type": "stream",
     "text": [
      "Enter your choice (paper, rock or scissors): paper\n",
      "user value= paper\n",
      "Draw.\n",
      "Your val is paper and computer is paper\n"
     ]
    }
   ],
   "source": [
    "# Assign a random play to the computer from a list of options (rock, paper, or scissors).\n",
    "mylist = [\"rock\", \"paper\",\"scissors\"]\n",
    "computer_val=random.choice(mylist)\n",
    "##get value from user and compare it with computer\n",
    "user_val=input(\"Enter your choice (paper, rock or scissors): \")\n",
    "if(user_val==\"rock\" or user_val==\"paper\" or user_val==\"scissors\"):\n",
    "    print(\"user value=\", user_val)\n",
    "    if(computer_val==\"rock\" and user_val==\"paper\"):\n",
    "        print(\"You won.\\nYour val is \"+user_val+\" and computer is \"+computer_val)\n",
    "    elif(computer_val==\"scissors\" and user_val==\"paper\"):\n",
    "        print(\"You failed.\\nYour val is \"+user_val+\" and computer is \"+computer_val)\n",
    "    elif(computer_val==\"paper\" and user_val==\"paper\"):\n",
    "        print(\"Draw.\\nYour val is \"+user_val+\" and computer is \"+computer_val)\n",
    "    elif(computer_val==\"rock\" and user_val==\"rock\"):\n",
    "        print(\"Draw.\\nYour val is \"+user_val+\" and computer is \"+computer_val)\n",
    "    elif(computer_val==\"scissors\" and user_val==\"rock\"):\n",
    "        print(\"You won.\\nYour val is \"+user_val+\" and computer is \"+computer_val)\n",
    "    elif(computer_val==\"paper\" and user_val==\"rock\"):\n",
    "        print(\"You failed.\\nYour val is \"+user_val+\" and computer is \"+computer_val)\n",
    "    elif(computer_val==\"rock\" and user_val==\"scissors\"):\n",
    "        print(\"You failed.\\nYour val is \"+user_val+\" and computer is \"+computer_val)\n",
    "    elif(computer_val==\"scissors\" and user_val==\"scissors\"):\n",
    "        print(\"Draw.\\nYour val is \"+user_val+\" and computer is \"+computer_val)\n",
    "    elif(computer_val==\"paper\" and user_val==\"scissors\"):\n",
    "        print(\"You won.\\nYour val is \"+user_val+\" and computer is \"+computer_val)\n",
    "else: \n",
    "    print(\"Error: you select a wrong answer. please, select again\")"
   ]
  },
  {
   "cell_type": "code",
   "execution_count": null,
   "metadata": {},
   "outputs": [],
   "source": []
  }
 ],
 "metadata": {
  "kernelspec": {
   "display_name": "Python 3",
   "language": "python",
   "name": "python3"
  },
  "language_info": {
   "codemirror_mode": {
    "name": "ipython",
    "version": 3
   },
   "file_extension": ".py",
   "mimetype": "text/x-python",
   "name": "python",
   "nbconvert_exporter": "python",
   "pygments_lexer": "ipython3",
   "version": "3.6.5"
  }
 },
 "nbformat": 4,
 "nbformat_minor": 4
}
